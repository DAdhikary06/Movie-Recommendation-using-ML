{
 "cells": [
  {
   "cell_type": "code",
   "execution_count": 20,
   "id": "e94f0da4-b596-4155-80a7-19bed0721cd8",
   "metadata": {},
   "outputs": [],
   "source": [
    "import pandas as pd\n",
    "df = pd.read_csv('./DataSet/movies.csv')"
   ]
  },
  {
   "cell_type": "code",
   "execution_count": 21,
   "id": "cf842d20-946d-4a3c-b476-d08842c411e4",
   "metadata": {},
   "outputs": [
    {
     "data": {
      "text/html": [
       "<div>\n",
       "<style scoped>\n",
       "    .dataframe tbody tr th:only-of-type {\n",
       "        vertical-align: middle;\n",
       "    }\n",
       "\n",
       "    .dataframe tbody tr th {\n",
       "        vertical-align: top;\n",
       "    }\n",
       "\n",
       "    .dataframe thead th {\n",
       "        text-align: right;\n",
       "    }\n",
       "</style>\n",
       "<table border=\"1\" class=\"dataframe\">\n",
       "  <thead>\n",
       "    <tr style=\"text-align: right;\">\n",
       "      <th></th>\n",
       "      <th>index</th>\n",
       "      <th>budget</th>\n",
       "      <th>genres</th>\n",
       "      <th>homepage</th>\n",
       "      <th>id</th>\n",
       "      <th>keywords</th>\n",
       "      <th>original_language</th>\n",
       "      <th>original_title</th>\n",
       "      <th>overview</th>\n",
       "      <th>popularity</th>\n",
       "      <th>...</th>\n",
       "      <th>runtime</th>\n",
       "      <th>spoken_languages</th>\n",
       "      <th>status</th>\n",
       "      <th>tagline</th>\n",
       "      <th>title</th>\n",
       "      <th>vote_average</th>\n",
       "      <th>vote_count</th>\n",
       "      <th>cast</th>\n",
       "      <th>crew</th>\n",
       "      <th>director</th>\n",
       "    </tr>\n",
       "  </thead>\n",
       "  <tbody>\n",
       "    <tr>\n",
       "      <th>0</th>\n",
       "      <td>0</td>\n",
       "      <td>237000000</td>\n",
       "      <td>Action Adventure Fantasy Science Fiction</td>\n",
       "      <td>http://www.avatarmovie.com/</td>\n",
       "      <td>19995</td>\n",
       "      <td>culture clash future space war space colony so...</td>\n",
       "      <td>en</td>\n",
       "      <td>Avatar</td>\n",
       "      <td>In the 22nd century, a paraplegic Marine is di...</td>\n",
       "      <td>150.437577</td>\n",
       "      <td>...</td>\n",
       "      <td>162.0</td>\n",
       "      <td>[{\"iso_639_1\": \"en\", \"name\": \"English\"}, {\"iso...</td>\n",
       "      <td>Released</td>\n",
       "      <td>Enter the World of Pandora.</td>\n",
       "      <td>Avatar</td>\n",
       "      <td>7.2</td>\n",
       "      <td>11800</td>\n",
       "      <td>Sam Worthington Zoe Saldana Sigourney Weaver S...</td>\n",
       "      <td>[{'name': 'Stephen E. Rivkin', 'gender': 0, 'd...</td>\n",
       "      <td>James Cameron</td>\n",
       "    </tr>\n",
       "    <tr>\n",
       "      <th>1</th>\n",
       "      <td>1</td>\n",
       "      <td>300000000</td>\n",
       "      <td>Adventure Fantasy Action</td>\n",
       "      <td>http://disney.go.com/disneypictures/pirates/</td>\n",
       "      <td>285</td>\n",
       "      <td>ocean drug abuse exotic island east india trad...</td>\n",
       "      <td>en</td>\n",
       "      <td>Pirates of the Caribbean: At World's End</td>\n",
       "      <td>Captain Barbossa, long believed to be dead, ha...</td>\n",
       "      <td>139.082615</td>\n",
       "      <td>...</td>\n",
       "      <td>169.0</td>\n",
       "      <td>[{\"iso_639_1\": \"en\", \"name\": \"English\"}]</td>\n",
       "      <td>Released</td>\n",
       "      <td>At the end of the world, the adventure begins.</td>\n",
       "      <td>Pirates of the Caribbean: At World's End</td>\n",
       "      <td>6.9</td>\n",
       "      <td>4500</td>\n",
       "      <td>Johnny Depp Orlando Bloom Keira Knightley Stel...</td>\n",
       "      <td>[{'name': 'Dariusz Wolski', 'gender': 2, 'depa...</td>\n",
       "      <td>Gore Verbinski</td>\n",
       "    </tr>\n",
       "    <tr>\n",
       "      <th>2</th>\n",
       "      <td>2</td>\n",
       "      <td>245000000</td>\n",
       "      <td>Action Adventure Crime</td>\n",
       "      <td>http://www.sonypictures.com/movies/spectre/</td>\n",
       "      <td>206647</td>\n",
       "      <td>spy based on novel secret agent sequel mi6</td>\n",
       "      <td>en</td>\n",
       "      <td>Spectre</td>\n",
       "      <td>A cryptic message from Bond’s past sends him o...</td>\n",
       "      <td>107.376788</td>\n",
       "      <td>...</td>\n",
       "      <td>148.0</td>\n",
       "      <td>[{\"iso_639_1\": \"fr\", \"name\": \"Fran\\u00e7ais\"},...</td>\n",
       "      <td>Released</td>\n",
       "      <td>A Plan No One Escapes</td>\n",
       "      <td>Spectre</td>\n",
       "      <td>6.3</td>\n",
       "      <td>4466</td>\n",
       "      <td>Daniel Craig Christoph Waltz L\\u00e9a Seydoux ...</td>\n",
       "      <td>[{'name': 'Thomas Newman', 'gender': 2, 'depar...</td>\n",
       "      <td>Sam Mendes</td>\n",
       "    </tr>\n",
       "    <tr>\n",
       "      <th>3</th>\n",
       "      <td>3</td>\n",
       "      <td>250000000</td>\n",
       "      <td>Action Crime Drama Thriller</td>\n",
       "      <td>http://www.thedarkknightrises.com/</td>\n",
       "      <td>49026</td>\n",
       "      <td>dc comics crime fighter terrorist secret ident...</td>\n",
       "      <td>en</td>\n",
       "      <td>The Dark Knight Rises</td>\n",
       "      <td>Following the death of District Attorney Harve...</td>\n",
       "      <td>112.312950</td>\n",
       "      <td>...</td>\n",
       "      <td>165.0</td>\n",
       "      <td>[{\"iso_639_1\": \"en\", \"name\": \"English\"}]</td>\n",
       "      <td>Released</td>\n",
       "      <td>The Legend Ends</td>\n",
       "      <td>The Dark Knight Rises</td>\n",
       "      <td>7.6</td>\n",
       "      <td>9106</td>\n",
       "      <td>Christian Bale Michael Caine Gary Oldman Anne ...</td>\n",
       "      <td>[{'name': 'Hans Zimmer', 'gender': 2, 'departm...</td>\n",
       "      <td>Christopher Nolan</td>\n",
       "    </tr>\n",
       "    <tr>\n",
       "      <th>4</th>\n",
       "      <td>4</td>\n",
       "      <td>260000000</td>\n",
       "      <td>Action Adventure Science Fiction</td>\n",
       "      <td>http://movies.disney.com/john-carter</td>\n",
       "      <td>49529</td>\n",
       "      <td>based on novel mars medallion space travel pri...</td>\n",
       "      <td>en</td>\n",
       "      <td>John Carter</td>\n",
       "      <td>John Carter is a war-weary, former military ca...</td>\n",
       "      <td>43.926995</td>\n",
       "      <td>...</td>\n",
       "      <td>132.0</td>\n",
       "      <td>[{\"iso_639_1\": \"en\", \"name\": \"English\"}]</td>\n",
       "      <td>Released</td>\n",
       "      <td>Lost in our world, found in another.</td>\n",
       "      <td>John Carter</td>\n",
       "      <td>6.1</td>\n",
       "      <td>2124</td>\n",
       "      <td>Taylor Kitsch Lynn Collins Samantha Morton Wil...</td>\n",
       "      <td>[{'name': 'Andrew Stanton', 'gender': 2, 'depa...</td>\n",
       "      <td>Andrew Stanton</td>\n",
       "    </tr>\n",
       "  </tbody>\n",
       "</table>\n",
       "<p>5 rows × 24 columns</p>\n",
       "</div>"
      ],
      "text/plain": [
       "   index     budget                                    genres  \\\n",
       "0      0  237000000  Action Adventure Fantasy Science Fiction   \n",
       "1      1  300000000                  Adventure Fantasy Action   \n",
       "2      2  245000000                    Action Adventure Crime   \n",
       "3      3  250000000               Action Crime Drama Thriller   \n",
       "4      4  260000000          Action Adventure Science Fiction   \n",
       "\n",
       "                                       homepage      id  \\\n",
       "0                   http://www.avatarmovie.com/   19995   \n",
       "1  http://disney.go.com/disneypictures/pirates/     285   \n",
       "2   http://www.sonypictures.com/movies/spectre/  206647   \n",
       "3            http://www.thedarkknightrises.com/   49026   \n",
       "4          http://movies.disney.com/john-carter   49529   \n",
       "\n",
       "                                            keywords original_language  \\\n",
       "0  culture clash future space war space colony so...                en   \n",
       "1  ocean drug abuse exotic island east india trad...                en   \n",
       "2         spy based on novel secret agent sequel mi6                en   \n",
       "3  dc comics crime fighter terrorist secret ident...                en   \n",
       "4  based on novel mars medallion space travel pri...                en   \n",
       "\n",
       "                             original_title  \\\n",
       "0                                    Avatar   \n",
       "1  Pirates of the Caribbean: At World's End   \n",
       "2                                   Spectre   \n",
       "3                     The Dark Knight Rises   \n",
       "4                               John Carter   \n",
       "\n",
       "                                            overview  popularity  ... runtime  \\\n",
       "0  In the 22nd century, a paraplegic Marine is di...  150.437577  ...   162.0   \n",
       "1  Captain Barbossa, long believed to be dead, ha...  139.082615  ...   169.0   \n",
       "2  A cryptic message from Bond’s past sends him o...  107.376788  ...   148.0   \n",
       "3  Following the death of District Attorney Harve...  112.312950  ...   165.0   \n",
       "4  John Carter is a war-weary, former military ca...   43.926995  ...   132.0   \n",
       "\n",
       "                                    spoken_languages    status  \\\n",
       "0  [{\"iso_639_1\": \"en\", \"name\": \"English\"}, {\"iso...  Released   \n",
       "1           [{\"iso_639_1\": \"en\", \"name\": \"English\"}]  Released   \n",
       "2  [{\"iso_639_1\": \"fr\", \"name\": \"Fran\\u00e7ais\"},...  Released   \n",
       "3           [{\"iso_639_1\": \"en\", \"name\": \"English\"}]  Released   \n",
       "4           [{\"iso_639_1\": \"en\", \"name\": \"English\"}]  Released   \n",
       "\n",
       "                                          tagline  \\\n",
       "0                     Enter the World of Pandora.   \n",
       "1  At the end of the world, the adventure begins.   \n",
       "2                           A Plan No One Escapes   \n",
       "3                                 The Legend Ends   \n",
       "4            Lost in our world, found in another.   \n",
       "\n",
       "                                      title vote_average vote_count  \\\n",
       "0                                    Avatar          7.2      11800   \n",
       "1  Pirates of the Caribbean: At World's End          6.9       4500   \n",
       "2                                   Spectre          6.3       4466   \n",
       "3                     The Dark Knight Rises          7.6       9106   \n",
       "4                               John Carter          6.1       2124   \n",
       "\n",
       "                                                cast  \\\n",
       "0  Sam Worthington Zoe Saldana Sigourney Weaver S...   \n",
       "1  Johnny Depp Orlando Bloom Keira Knightley Stel...   \n",
       "2  Daniel Craig Christoph Waltz L\\u00e9a Seydoux ...   \n",
       "3  Christian Bale Michael Caine Gary Oldman Anne ...   \n",
       "4  Taylor Kitsch Lynn Collins Samantha Morton Wil...   \n",
       "\n",
       "                                                crew           director  \n",
       "0  [{'name': 'Stephen E. Rivkin', 'gender': 0, 'd...      James Cameron  \n",
       "1  [{'name': 'Dariusz Wolski', 'gender': 2, 'depa...     Gore Verbinski  \n",
       "2  [{'name': 'Thomas Newman', 'gender': 2, 'depar...         Sam Mendes  \n",
       "3  [{'name': 'Hans Zimmer', 'gender': 2, 'departm...  Christopher Nolan  \n",
       "4  [{'name': 'Andrew Stanton', 'gender': 2, 'depa...     Andrew Stanton  \n",
       "\n",
       "[5 rows x 24 columns]"
      ]
     },
     "execution_count": 21,
     "metadata": {},
     "output_type": "execute_result"
    }
   ],
   "source": [
    "df.head()"
   ]
  },
  {
   "cell_type": "code",
   "execution_count": 22,
   "id": "148c027a-4da2-45dc-8fbb-167adee02e5f",
   "metadata": {},
   "outputs": [
    {
     "data": {
      "text/plain": [
       "(4803, 24)"
      ]
     },
     "execution_count": 22,
     "metadata": {},
     "output_type": "execute_result"
    }
   ],
   "source": [
    "# Number of rows and columns in the data frame\n",
    "df.shape"
   ]
  },
  {
   "cell_type": "code",
   "execution_count": 23,
   "id": "f2615298-bf67-4e3b-b677-c184bb18fd4a",
   "metadata": {},
   "outputs": [
    {
     "name": "stdout",
     "output_type": "stream",
     "text": [
      "['genres', 'keywords', 'tagline', 'cast', 'director']\n"
     ]
    }
   ],
   "source": [
    "# Selecting the relevant features for recommendation\n",
    "\n",
    "selected_features = ['genres','keywords','tagline','cast','director']\n",
    "print(selected_features)"
   ]
  },
  {
   "cell_type": "code",
   "execution_count": 25,
   "id": "b646f4c9-547b-4778-ac4c-2fd57a134f75",
   "metadata": {},
   "outputs": [
    {
     "data": {
      "text/plain": [
       "genres       28\n",
       "keywords    412\n",
       "tagline     844\n",
       "cast         43\n",
       "director     30\n",
       "dtype: int64"
      ]
     },
     "execution_count": 25,
     "metadata": {},
     "output_type": "execute_result"
    }
   ],
   "source": [
    "# Checking the total null value present in selected_features\n",
    "df[selected_features].isnull().sum()"
   ]
  },
  {
   "cell_type": "code",
   "execution_count": 26,
   "id": "b858826e-c78d-4436-b1db-18fdb7572303",
   "metadata": {},
   "outputs": [],
   "source": [
    "# Replacing the null valuess with null string\n",
    "\n",
    "for feature in selected_features:\n",
    "  df[feature] = df[feature].fillna('')"
   ]
  },
  {
   "cell_type": "code",
   "execution_count": 27,
   "id": "893ccf67-e1a9-4cac-a0d6-f33a60208bf9",
   "metadata": {},
   "outputs": [
    {
     "data": {
      "text/plain": [
       "genres      0\n",
       "keywords    0\n",
       "tagline     0\n",
       "cast        0\n",
       "director    0\n",
       "dtype: int64"
      ]
     },
     "execution_count": 27,
     "metadata": {},
     "output_type": "execute_result"
    }
   ],
   "source": [
    "df[selected_features].isnull().sum()"
   ]
  },
  {
   "cell_type": "code",
   "execution_count": 29,
   "id": "c8385b53-7d79-4174-9682-e7bba549d3f1",
   "metadata": {},
   "outputs": [
    {
     "data": {
      "text/plain": [
       "0       Action Adventure Fantasy Science Fiction cultu...\n",
       "1       Adventure Fantasy Action ocean drug abuse exot...\n",
       "2       Action Adventure Crime spy based on novel secr...\n",
       "3       Action Crime Drama Thriller dc comics crime fi...\n",
       "4       Action Adventure Science Fiction based on nove...\n",
       "                              ...                        \n",
       "4798    Action Crime Thriller united states\\u2013mexic...\n",
       "4799    Comedy Romance  A newlywed couple's honeymoon ...\n",
       "4800    Comedy Drama Romance TV Movie date love at fir...\n",
       "4801      A New Yorker in Shanghai Daniel Henney Eliza...\n",
       "4802    Documentary obsession camcorder crush dream gi...\n",
       "Length: 4803, dtype: object"
      ]
     },
     "execution_count": 29,
     "metadata": {},
     "output_type": "execute_result"
    }
   ],
   "source": [
    "# Combining all the 5 selected features for vectorization\n",
    "\n",
    "combined_features = df['genres']+' '+df['keywords']+' '+df['tagline']+' '+df['cast']+' '+df['director']\n",
    "combined_features"
   ]
  },
  {
   "cell_type": "code",
   "execution_count": 35,
   "id": "9552c788-107d-4d98-b70d-1aa8e549e3e7",
   "metadata": {},
   "outputs": [],
   "source": [
    "# Converting the text data to feature vectors\n",
    "from sklearn.feature_extraction.text import TfidfVectorizer\n",
    "\n",
    "vectorizer = TfidfVectorizer()\n",
    "feature_vectors = vectorizer.fit_transform(combined_features)"
   ]
  },
  {
   "cell_type": "code",
   "execution_count": 39,
   "id": "398d9a71-be47-4413-98a2-daaaaf4f9c3c",
   "metadata": {},
   "outputs": [
    {
     "name": "stdout",
     "output_type": "stream",
     "text": [
      "<Compressed Sparse Row sparse matrix of dtype 'float64'\n",
      "\twith 124266 stored elements and shape (4803, 17318)>\n",
      "  Coords\tValues\n",
      "  (0, 201)\t0.07860022416510505\n",
      "  (0, 274)\t0.09021200873707368\n",
      "  (0, 5274)\t0.11108562744414445\n",
      "  (0, 13599)\t0.1036413987316636\n",
      "  (0, 5437)\t0.1036413987316636\n",
      "  (0, 3678)\t0.21392179219912877\n",
      "  (0, 3065)\t0.22208377802661425\n",
      "  (0, 5836)\t0.1646750903586285\n",
      "  (0, 14378)\t0.33962752210959823\n",
      "  (0, 16587)\t0.12549432354918996\n",
      "  (0, 3225)\t0.24960162956997736\n",
      "  (0, 14271)\t0.21392179219912877\n",
      "  (0, 4945)\t0.24025852494110758\n",
      "  (0, 15261)\t0.07095833561276566\n",
      "  (0, 16998)\t0.1282126322850579\n",
      "  (0, 11192)\t0.09049319826481456\n",
      "  (0, 11503)\t0.27211310056983656\n",
      "  (0, 13349)\t0.15021264094167086\n",
      "  (0, 17007)\t0.23643326319898797\n",
      "  (0, 17290)\t0.20197912553916567\n",
      "  (0, 13319)\t0.2177470539412484\n",
      "  (0, 14064)\t0.20596090415084142\n",
      "  (0, 16668)\t0.19843263965100372\n",
      "  (0, 14608)\t0.15150672398763912\n",
      "  (0, 8756)\t0.22709015857011816\n",
      "  :\t:\n",
      "  (4801, 403)\t0.17727585190343229\n",
      "  (4801, 4835)\t0.24713765026964\n",
      "  (4801, 17266)\t0.28860981849329476\n",
      "  (4801, 13835)\t0.27870029291200094\n",
      "  (4801, 13175)\t0.28860981849329476\n",
      "  (4801, 17150)\t0.3025765103586468\n",
      "  (4801, 3511)\t0.3025765103586468\n",
      "  (4801, 13948)\t0.3025765103586468\n",
      "  (4801, 7269)\t0.3025765103586468\n",
      "  (4802, 11161)\t0.17867407682173203\n",
      "  (4802, 4518)\t0.16784466610624255\n",
      "  (4802, 2129)\t0.3099656128577656\n",
      "  (4802, 4980)\t0.16078053641367315\n",
      "  (4802, 6155)\t0.18056463596934083\n",
      "  (4802, 3436)\t0.21753405888348784\n",
      "  (4802, 4528)\t0.19504460807622875\n",
      "  (4802, 1316)\t0.1960747079005741\n",
      "  (4802, 12989)\t0.1696476532191718\n",
      "  (4802, 4371)\t0.1538239182675544\n",
      "  (4802, 6417)\t0.21753405888348784\n",
      "  (4802, 4608)\t0.24002350969074696\n",
      "  (4802, 2425)\t0.24002350969074696\n",
      "  (4802, 3654)\t0.262512960498006\n",
      "  (4802, 5367)\t0.22969114490410403\n",
      "  (4802, 6996)\t0.5700048226105303\n"
     ]
    }
   ],
   "source": [
    "print(feature_vectors)"
   ]
  },
  {
   "cell_type": "code",
   "execution_count": 42,
   "id": "d6094eb2-7f51-495b-853c-0b3e30220143",
   "metadata": {},
   "outputs": [
    {
     "data": {
      "text/plain": [
       "'future'"
      ]
     },
     "execution_count": 42,
     "metadata": {},
     "output_type": "execute_result"
    }
   ],
   "source": [
    "# It's Shows which word corresponds to column\n",
    "vectorizer.get_feature_names_out()[5836]"
   ]
  },
  {
   "cell_type": "code",
   "execution_count": 43,
   "id": "36fb942b-e0b5-4499-a60e-ec21a4760e6f",
   "metadata": {},
   "outputs": [],
   "source": [
    "# Getting the similarity scores using cosine similarity\n",
    "from sklearn.metrics.pairwise import cosine_similarity\n",
    "similarity = cosine_similarity(feature_vectors)"
   ]
  },
  {
   "cell_type": "code",
   "execution_count": 45,
   "id": "724450e9-de1a-4d90-bf5c-d7b0e3e731aa",
   "metadata": {},
   "outputs": [
    {
     "name": "stdout",
     "output_type": "stream",
     "text": [
      "[[1.         0.07219487 0.037733   ... 0.         0.         0.        ]\n",
      " [0.07219487 1.         0.03281499 ... 0.03575545 0.         0.        ]\n",
      " [0.037733   0.03281499 1.         ... 0.         0.05389661 0.        ]\n",
      " ...\n",
      " [0.         0.03575545 0.         ... 1.         0.         0.02651502]\n",
      " [0.         0.         0.05389661 ... 0.         1.         0.        ]\n",
      " [0.         0.         0.         ... 0.02651502 0.         1.        ]]\n"
     ]
    }
   ],
   "source": [
    "print(similarity)"
   ]
  },
  {
   "cell_type": "code",
   "execution_count": 46,
   "id": "84e8d8e0-c37d-4532-8fa6-1c58478d5d7b",
   "metadata": {},
   "outputs": [
    {
     "name": "stdout",
     "output_type": "stream",
     "text": [
      "(4803, 4803)\n"
     ]
    }
   ],
   "source": [
    "print(similarity.shape)"
   ]
  },
  {
   "cell_type": "code",
   "execution_count": 47,
   "id": "f96ac888-b520-4184-9595-f90244230631",
   "metadata": {},
   "outputs": [
    {
     "name": "stdin",
     "output_type": "stream",
     "text": [
      " Enter your favourite movie name :  Batman\n"
     ]
    }
   ],
   "source": [
    "# Getting the movie name from the user\n",
    "\n",
    "movie_name = input(' Enter your favourite movie name : ')"
   ]
  },
  {
   "cell_type": "code",
   "execution_count": 51,
   "id": "49e9b2a5-a493-4301-90b6-a4f3325641fc",
   "metadata": {},
   "outputs": [
    {
     "name": "stdout",
     "output_type": "stream",
     "text": [
      "['Avatar', \"Pirates of the Caribbean: At World's End\", 'Spectre', 'The Dark Knight Rises', 'John Carter']\n"
     ]
    }
   ],
   "source": [
    "# Creating a list with all the movie names given in the dataset\n",
    "\n",
    "list_of_all_titles = df['title'].tolist() # tolist() is a method in pandas\n",
    "print(list_of_all_titles[:5])"
   ]
  },
  {
   "cell_type": "code",
   "execution_count": 63,
   "id": "d1686d59-5ebd-4b52-a974-beb71e0ffce1",
   "metadata": {},
   "outputs": [
    {
     "name": "stdout",
     "output_type": "stream",
     "text": [
      "['Batman', 'Batman', 'Catwoman']\n"
     ]
    }
   ],
   "source": [
    "# finding the close match for the movie name given by the user\n",
    "import difflib\n",
    "from difflib import get_close_matches\n",
    "find_close_match = difflib.get_close_matches(movie_name, list_of_all_titles)\n",
    "if not find_close_match:\n",
    "        print(\"No close match found. Try again.\")\n",
    "print(find_close_match)"
   ]
  },
  {
   "cell_type": "code",
   "execution_count": 54,
   "id": "b5ca6009-bbf7-4970-8667-a397b822d544",
   "metadata": {},
   "outputs": [
    {
     "name": "stdout",
     "output_type": "stream",
     "text": [
      "Batman\n"
     ]
    }
   ],
   "source": [
    "close_match = find_close_match[0]\n",
    "print(close_match)"
   ]
  },
  {
   "cell_type": "code",
   "execution_count": 55,
   "id": "e3f42194-db41-4df9-84cc-d0a1710e09e8",
   "metadata": {},
   "outputs": [
    {
     "name": "stdout",
     "output_type": "stream",
     "text": [
      "1359\n"
     ]
    }
   ],
   "source": [
    "# Finding the index of the movie with title\n",
    "\n",
    "index_of_the_movie = df[df.title == close_match]['index'].values[0]\n",
    "print(index_of_the_movie)"
   ]
  },
  {
   "cell_type": "code",
   "execution_count": 58,
   "id": "6afe8056-b5e0-4275-810a-7bb0a82acdf2",
   "metadata": {},
   "outputs": [
    {
     "name": "stdout",
     "output_type": "stream",
     "text": [
      "[(0, np.float64(0.025315122697371115)), (1, np.float64(0.049832930643991497)), (2, np.float64(0.013599520029326729)), (3, np.float64(0.20438773732168228)), (4, np.float64(0.024929726723526918))]\n"
     ]
    }
   ],
   "source": [
    "# Getting a list of similar movies\n",
    "\n",
    "similarity_score = list(enumerate(similarity[index_of_the_movie]))\n",
    "print(similarity_score[:5]) #It’s a list of similarity scores between Movie name by user and every other movie."
   ]
  },
  {
   "cell_type": "code",
   "execution_count": 60,
   "id": "42dd4170-6b30-43e4-8a96-adf3b1ea58ef",
   "metadata": {},
   "outputs": [
    {
     "name": "stdout",
     "output_type": "stream",
     "text": [
      "[(1359, np.float64(1.0)), (428, np.float64(0.4311643836232694)), (210, np.float64(0.2573799982085963)), (3, np.float64(0.20438773732168228)), (119, np.float64(0.1926252875715041))]\n"
     ]
    }
   ],
   "source": [
    "# Sorting the movies based on their similarity score\n",
    "\n",
    "sorted_similar_movies = sorted(similarity_score, key = lambda x:x[1], reverse = True) \n",
    "print(sorted_similar_movies[:5])"
   ]
  },
  {
   "cell_type": "code",
   "execution_count": 81,
   "id": "dae3b106-05d6-4f65-86e1-1914b54ecb67",
   "metadata": {},
   "outputs": [
    {
     "name": "stdout",
     "output_type": "stream",
     "text": [
      "\n",
      "Top 5 movie recommendations for: Batman\n",
      "1 : Batman Returns\n",
      "2 : Batman & Robin\n",
      "3 : The Dark Knight Rises\n",
      "4 : Batman Begins\n",
      "5 : The Dark Knight\n"
     ]
    }
   ],
   "source": [
    "# Print top 5 similar movies\n",
    "print(\"\\nTop 5 movie recommendations for:\", close_match)\n",
    "i = 1\n",
    "for movie in sorted_similar_movies[1:6]:\n",
    "    index = movie[0]\n",
    "    \n",
    "    title_from_index = df[df.index == index]['title'].values[0]\n",
    "    print(i, \":\", title_from_index)\n",
    "    i += 1\n",
    "'''\n",
    "--> Why use .values[0]\n",
    "    Because:\n",
    "    df[df.index == index]['title'] returns a Series like 2: 'Avengers: Endgame'.\n",
    "    .values[0] grabs the first item from that Series — the actual movie title string.\n",
    "'''"
   ]
  },
  {
   "cell_type": "code",
   "execution_count": null,
   "id": "719d52c4-9515-4af4-97d1-a282da389178",
   "metadata": {},
   "outputs": [],
   "source": []
  }
 ],
 "metadata": {
  "kernelspec": {
   "display_name": "Python 3 (ipykernel)",
   "language": "python",
   "name": "python3"
  },
  "language_info": {
   "codemirror_mode": {
    "name": "ipython",
    "version": 3
   },
   "file_extension": ".py",
   "mimetype": "text/x-python",
   "name": "python",
   "nbconvert_exporter": "python",
   "pygments_lexer": "ipython3",
   "version": "3.11.4"
  },
  "widgets": {
   "application/vnd.jupyter.widget-state+json": {
    "state": {},
    "version_major": 2,
    "version_minor": 0
   }
  }
 },
 "nbformat": 4,
 "nbformat_minor": 5
}
